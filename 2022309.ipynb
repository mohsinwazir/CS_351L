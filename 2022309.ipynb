{
  "nbformat": 4,
  "nbformat_minor": 0,
  "metadata": {
    "colab": {
      "provenance": []
    },
    "kernelspec": {
      "name": "python3",
      "display_name": "Python 3"
    },
    "language_info": {
      "name": "python"
    }
  },
  "cells": [
    {
      "cell_type": "markdown",
      "source": [
        "Using Breadth first search"
      ],
      "metadata": {
        "id": "RpC0v7rWC3Rn"
      }
    },
    {
      "cell_type": "code",
      "execution_count": 4,
      "metadata": {
        "colab": {
          "base_uri": "https://localhost:8080/"
        },
        "id": "0WrK2tt2BtFQ",
        "outputId": "6569e738-2b96-4936-af7d-1d967dfadf13"
      },
      "outputs": [
        {
          "output_type": "stream",
          "name": "stdout",
          "text": [
            "Think of a number between 1 and 100, and I (the AI) will try to guess it.\n",
            "AI's guess is: 50\n",
            "Enter 'h' if too high, 'l' if too low, or 'c' if correct: l\n",
            "AI's guess is: 51\n",
            "Enter 'h' if too high, 'l' if too low, or 'c' if correct: l\n",
            "AI's guess is: 52\n",
            "Enter 'h' if too high, 'l' if too low, or 'c' if correct: l\n",
            "AI's guess is: 53\n",
            "Enter 'h' if too high, 'l' if too low, or 'c' if correct: l\n",
            "AI's guess is: 54\n",
            "Enter 'h' if too high, 'l' if too low, or 'c' if correct: l\n",
            "AI's guess is: 55\n",
            "Enter 'h' if too high, 'l' if too low, or 'c' if correct: l\n",
            "AI's guess is: 56\n",
            "Enter 'h' if too high, 'l' if too low, or 'c' if correct: l\n",
            "AI's guess is: 57\n",
            "Enter 'h' if too high, 'l' if too low, or 'c' if correct: l\n",
            "AI's guess is: 58\n",
            "Enter 'h' if too high, 'l' if too low, or 'c' if correct: c\n",
            "I (AI) guessed the number in 9 attempts!\n"
          ]
        }
      ],
      "source": [
        "from collections import deque\n",
        "\n",
        "def ai_bfs_number_guessing_game():\n",
        "    # Player selects a number\n",
        "    print(\"Think of a number between 1 and 100, and I (the AI) will try to guess it.\")\n",
        "\n",
        "    low = 1\n",
        "    high = 100\n",
        "    attempts = 0\n",
        "\n",
        "    # BFS-like guessing starts with the middle and expands outward\n",
        "    queue = deque([(low + high) // 2])  # Start by guessing the middle number\n",
        "\n",
        "    while queue:\n",
        "        guess = queue.popleft()  # Get the next guess\n",
        "        attempts += 1\n",
        "\n",
        "        print(f\"AI's guess is: {guess}\")\n",
        "        feedback = input(\"Enter 'h' if too high, 'l' if too low, or 'c' if correct: \").lower()\n",
        "\n",
        "        if feedback == 'c':\n",
        "            print(f\"I (AI) guessed the number in {attempts} attempts!\")\n",
        "            return\n",
        "        elif feedback == 'h':\n",
        "            # If too high, add numbers to the left side (lower than the guess)\n",
        "            for num in range(guess - 1, low - 1, -1):\n",
        "                queue.append(num)\n",
        "        elif feedback == 'l':\n",
        "            # If too low, add numbers to the right side (higher than the guess)\n",
        "            for num in range(guess + 1, high + 1):\n",
        "                queue.append(num)\n",
        "\n",
        "    print(\"Something went wrong!\")\n",
        "\n",
        "# Run the simplified BFS-inspired AI version\n",
        "ai_bfs_number_guessing_game()\n"
      ]
    },
    {
      "cell_type": "markdown",
      "source": [
        "USING Depth first search"
      ],
      "metadata": {
        "id": "fbstnbz0CavJ"
      }
    },
    {
      "cell_type": "code",
      "source": [
        "def ai_dfs_number_guessing_game():\n",
        "    # Player selects a number\n",
        "    print(\"Think of a number between 1 and 100, and I (the AI) will try to guess it.\")\n",
        "\n",
        "    low = 1\n",
        "    high = 100\n",
        "    attempts = 0\n",
        "\n",
        "    # DFS stack, starting with the middle guess\n",
        "    stack = [(low + high) // 2]  # Start by guessing the middle number\n",
        "\n",
        "    while stack:\n",
        "        guess = stack.pop()  # Get the next guess (DFS style, last in, first out)\n",
        "        attempts += 1\n",
        "\n",
        "        print(f\"AI's guess is: {guess}\")\n",
        "        feedback = input(\"Enter 'h' if too high, 'l' if too low, or 'c' if correct: \").lower()\n",
        "\n",
        "        if feedback == 'c':\n",
        "            print(f\"I (AI) guessed the number in {attempts} attempts!\")\n",
        "            return\n",
        "        elif feedback == 'h':\n",
        "            # If the guess is too high, explore the left (lower) side\n",
        "            if guess - 1 >= low:\n",
        "                stack.append(guess - 1)  # Add the next lower number to the stack\n",
        "        elif feedback == 'l':\n",
        "            # If the guess is too low, explore the right (higher) side\n",
        "            if guess + 1 <= high:\n",
        "                stack.append(guess + 1)  # Add the next higher number to the stack\n",
        "\n",
        "    print(\"Something went wrong!\")\n",
        "\n",
        "# Run the DFS-inspired AI version\n",
        "ai_dfs_number_guessing_game()"
      ],
      "metadata": {
        "colab": {
          "base_uri": "https://localhost:8080/"
        },
        "id": "ltM51F24tlI-",
        "outputId": "fc20c3d4-c7ec-4840-e9e4-1090b436e6ba"
      },
      "execution_count": 3,
      "outputs": [
        {
          "output_type": "stream",
          "name": "stdout",
          "text": [
            "Think of a number between 1 and 100, and I (the AI) will try to guess it.\n",
            "AI's guess is: 50\n",
            "Enter 'h' if too high, 'l' if too low, or 'c' if correct: h\n",
            "AI's guess is: 49\n",
            "Enter 'h' if too high, 'l' if too low, or 'c' if correct: h\n",
            "AI's guess is: 48\n",
            "Enter 'h' if too high, 'l' if too low, or 'c' if correct: h\n",
            "AI's guess is: 47\n",
            "Enter 'h' if too high, 'l' if too low, or 'c' if correct: h\n",
            "AI's guess is: 46\n",
            "Enter 'h' if too high, 'l' if too low, or 'c' if correct: h\n",
            "AI's guess is: 45\n",
            "Enter 'h' if too high, 'l' if too low, or 'c' if correct: h\n",
            "AI's guess is: 44\n",
            "Enter 'h' if too high, 'l' if too low, or 'c' if correct: h\n",
            "AI's guess is: 43\n",
            "Enter 'h' if too high, 'l' if too low, or 'c' if correct: h\n",
            "AI's guess is: 42\n",
            "Enter 'h' if too high, 'l' if too low, or 'c' if correct: h\n",
            "AI's guess is: 41\n",
            "Enter 'h' if too high, 'l' if too low, or 'c' if correct: h\n",
            "AI's guess is: 40\n",
            "Enter 'h' if too high, 'l' if too low, or 'c' if correct: c\n",
            "I (AI) guessed the number in 11 attempts!\n"
          ]
        }
      ]
    },
    {
      "cell_type": "code",
      "source": [],
      "metadata": {
        "id": "CETD-rKGEU87"
      },
      "execution_count": null,
      "outputs": []
    },
    {
      "cell_type": "markdown",
      "source": [
        "using simulated annealing"
      ],
      "metadata": {
        "id": "cMTO7LdPEAOT"
      }
    },
    {
      "cell_type": "code",
      "source": [
        "import random\n",
        "import math\n",
        "\n",
        "def ai_simulated_annealing_number_guessing_game():\n",
        "    # Player selects a number\n",
        "    print(\"Think of a number between 1 and 100, and I (the AI) will try to guess it using simulated annealing.\")\n",
        "\n",
        "    low = 1\n",
        "    high = 100\n",
        "    temperature = 100  # Initial temperature (high)\n",
        "    cooling_rate = 0.95  # How fast the temperature cools down\n",
        "    attempts = 0\n",
        "\n",
        "    # Function to calculate fitness: the closeness of the guess to the target\n",
        "    def fitness(guess, target):\n",
        "        return abs(guess - target)\n",
        "\n",
        "    # Function to get a neighboring guess\n",
        "    def neighbor(guess):\n",
        "        return guess + random.randint(-5, 5)  # Small random change in guess\n",
        "\n",
        "    # Initialize with a random guess\n",
        "    current_guess = random.randint(low, high)\n",
        "\n",
        "    # Get the number the user is thinking of (for testing purposes)\n",
        "    target = int(input(\"Enter the number you're thinking of (hidden from AI): \"))\n",
        "\n",
        "    while temperature > 1:\n",
        "        attempts += 1\n",
        "        print(f\"Attempt {attempts}: AI's current guess is {current_guess} (Temperature: {temperature:.2f})\")\n",
        "\n",
        "        # Check if the AI guessed the number\n",
        "        if current_guess == target:\n",
        "            print(f\"AI guessed your number {current_guess} in {attempts} attempts!\")\n",
        "            return\n",
        "\n",
        "        # Generate a neighboring guess\n",
        "        new_guess = neighbor(current_guess)\n",
        "        new_guess = max(min(new_guess, high), low)  # Ensure it's within bounds\n",
        "\n",
        "        # Calculate fitness for both current and new guess\n",
        "        current_fitness = fitness(current_guess, target)\n",
        "        new_fitness = fitness(new_guess, target)\n",
        "\n",
        "        # Calculate acceptance probability\n",
        "        if new_fitness < current_fitness:\n",
        "            # If the new guess is better, always accept it\n",
        "            current_guess = new_guess\n",
        "        else:\n",
        "            # If the new guess is worse, accept it with a certain probability\n",
        "            acceptance_probability = math.exp((current_fitness - new_fitness) / temperature)\n",
        "            if random.random() < acceptance_probability:\n",
        "                current_guess = new_guess\n",
        "\n",
        "        # Cool down the temperature\n",
        "        temperature *= cooling_rate\n",
        "\n",
        "    print(f\"AI couldn't guess the number within the temperature limit. Final guess was {current_guess}.\")\n",
        "\n",
        "# Run the simulated annealing AI version\n",
        "ai_simulated_annealing_number_guessing_game()\n"
      ],
      "metadata": {
        "colab": {
          "base_uri": "https://localhost:8080/"
        },
        "id": "xaQThaWADacd",
        "outputId": "82e744c4-01ca-4bb9-f91a-6b5846d7d4f7"
      },
      "execution_count": 5,
      "outputs": [
        {
          "output_type": "stream",
          "name": "stdout",
          "text": [
            "Think of a number between 1 and 100, and I (the AI) will try to guess it using simulated annealing.\n",
            "Enter the number you're thinking of (hidden from AI): 50\n",
            "Attempt 1: AI's current guess is 93 (Temperature: 100.00)\n",
            "Attempt 2: AI's current guess is 92 (Temperature: 95.00)\n",
            "Attempt 3: AI's current guess is 87 (Temperature: 90.25)\n",
            "Attempt 4: AI's current guess is 87 (Temperature: 85.74)\n",
            "Attempt 5: AI's current guess is 89 (Temperature: 81.45)\n",
            "Attempt 6: AI's current guess is 94 (Temperature: 77.38)\n",
            "Attempt 7: AI's current guess is 89 (Temperature: 73.51)\n",
            "Attempt 8: AI's current guess is 85 (Temperature: 69.83)\n",
            "Attempt 9: AI's current guess is 82 (Temperature: 66.34)\n",
            "Attempt 10: AI's current guess is 81 (Temperature: 63.02)\n",
            "Attempt 11: AI's current guess is 76 (Temperature: 59.87)\n",
            "Attempt 12: AI's current guess is 80 (Temperature: 56.88)\n",
            "Attempt 13: AI's current guess is 84 (Temperature: 54.04)\n",
            "Attempt 14: AI's current guess is 80 (Temperature: 51.33)\n",
            "Attempt 15: AI's current guess is 82 (Temperature: 48.77)\n",
            "Attempt 16: AI's current guess is 82 (Temperature: 46.33)\n",
            "Attempt 17: AI's current guess is 80 (Temperature: 44.01)\n",
            "Attempt 18: AI's current guess is 85 (Temperature: 41.81)\n",
            "Attempt 19: AI's current guess is 83 (Temperature: 39.72)\n",
            "Attempt 20: AI's current guess is 82 (Temperature: 37.74)\n",
            "Attempt 21: AI's current guess is 77 (Temperature: 35.85)\n",
            "Attempt 22: AI's current guess is 76 (Temperature: 34.06)\n",
            "Attempt 23: AI's current guess is 72 (Temperature: 32.35)\n",
            "Attempt 24: AI's current guess is 77 (Temperature: 30.74)\n",
            "Attempt 25: AI's current guess is 77 (Temperature: 29.20)\n",
            "Attempt 26: AI's current guess is 81 (Temperature: 27.74)\n",
            "Attempt 27: AI's current guess is 80 (Temperature: 26.35)\n",
            "Attempt 28: AI's current guess is 84 (Temperature: 25.03)\n",
            "Attempt 29: AI's current guess is 85 (Temperature: 23.78)\n",
            "Attempt 30: AI's current guess is 87 (Temperature: 22.59)\n",
            "Attempt 31: AI's current guess is 82 (Temperature: 21.46)\n",
            "Attempt 32: AI's current guess is 80 (Temperature: 20.39)\n",
            "Attempt 33: AI's current guess is 84 (Temperature: 19.37)\n",
            "Attempt 34: AI's current guess is 82 (Temperature: 18.40)\n",
            "Attempt 35: AI's current guess is 81 (Temperature: 17.48)\n",
            "Attempt 36: AI's current guess is 81 (Temperature: 16.61)\n",
            "Attempt 37: AI's current guess is 78 (Temperature: 15.78)\n",
            "Attempt 38: AI's current guess is 80 (Temperature: 14.99)\n",
            "Attempt 39: AI's current guess is 78 (Temperature: 14.24)\n",
            "Attempt 40: AI's current guess is 74 (Temperature: 13.53)\n",
            "Attempt 41: AI's current guess is 70 (Temperature: 12.85)\n",
            "Attempt 42: AI's current guess is 67 (Temperature: 12.21)\n",
            "Attempt 43: AI's current guess is 68 (Temperature: 11.60)\n",
            "Attempt 44: AI's current guess is 66 (Temperature: 11.02)\n",
            "Attempt 45: AI's current guess is 64 (Temperature: 10.47)\n",
            "Attempt 46: AI's current guess is 66 (Temperature: 9.94)\n",
            "Attempt 47: AI's current guess is 68 (Temperature: 9.45)\n",
            "Attempt 48: AI's current guess is 69 (Temperature: 8.97)\n",
            "Attempt 49: AI's current guess is 66 (Temperature: 8.53)\n",
            "Attempt 50: AI's current guess is 63 (Temperature: 8.10)\n",
            "Attempt 51: AI's current guess is 60 (Temperature: 7.69)\n",
            "Attempt 52: AI's current guess is 57 (Temperature: 7.31)\n",
            "Attempt 53: AI's current guess is 54 (Temperature: 6.94)\n",
            "Attempt 54: AI's current guess is 58 (Temperature: 6.60)\n",
            "Attempt 55: AI's current guess is 58 (Temperature: 6.27)\n",
            "Attempt 56: AI's current guess is 58 (Temperature: 5.95)\n",
            "Attempt 57: AI's current guess is 62 (Temperature: 5.66)\n",
            "Attempt 58: AI's current guess is 63 (Temperature: 5.37)\n",
            "Attempt 59: AI's current guess is 59 (Temperature: 5.10)\n",
            "Attempt 60: AI's current guess is 61 (Temperature: 4.85)\n",
            "Attempt 61: AI's current guess is 56 (Temperature: 4.61)\n",
            "Attempt 62: AI's current guess is 52 (Temperature: 4.38)\n",
            "Attempt 63: AI's current guess is 53 (Temperature: 4.16)\n",
            "Attempt 64: AI's current guess is 50 (Temperature: 3.95)\n",
            "AI guessed your number 50 in 64 attempts!\n"
          ]
        }
      ]
    }
  ]
}